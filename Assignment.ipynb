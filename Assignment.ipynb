{
  "nbformat": 4,
  "nbformat_minor": 0,
  "metadata": {
    "colab": {
      "provenance": []
    },
    "kernelspec": {
      "name": "python3",
      "display_name": "Python 3"
    },
    "language_info": {
      "name": "python"
    }
  },
  "cells": [
    {
      "cell_type": "markdown",
      "source": [
        "Q1.Write a program that asks the user to enter their name, then prints a greeting message with the user’s name."
      ],
      "metadata": {
        "id": "nz1nS05cp2bs"
      }
    },
    {
      "cell_type": "code",
      "execution_count": 1,
      "metadata": {
        "colab": {
          "base_uri": "https://localhost:8080/"
        },
        "id": "RPyB02UmoUJs",
        "outputId": "509acb28-91d8-4e00-8b90-393db32c3f74"
      },
      "outputs": [
        {
          "output_type": "stream",
          "name": "stdout",
          "text": [
            "Enter your name: Khulud alshammari\n",
            "Hello, Khulud alshammari!\n"
          ]
        }
      ],
      "source": [
        "\n"
      ]
    },
    {
      "cell_type": "markdown",
      "source": [
        "Q2.Write a program that asks the user to enter two numbers and calculates their sum."
      ],
      "metadata": {
        "id": "yWg-dV4GqORH"
      }
    },
    {
      "cell_type": "code",
      "source": [
        "\n"
      ],
      "metadata": {
        "colab": {
          "base_uri": "https://localhost:8080/"
        },
        "id": "sxZsihGnqVan",
        "outputId": "e32d670b-3911-4d8d-b8d6-0ef020dcebe3"
      },
      "execution_count": 2,
      "outputs": [
        {
          "output_type": "stream",
          "name": "stdout",
          "text": [
            "Enter the first number: 2\n",
            "Enter the second number: 3\n",
            "The sum is: 5\n"
          ]
        }
      ]
    },
    {
      "cell_type": "markdown",
      "source": [
        "Q3.Write a program that checks if the entered number is even or odd and displays the result."
      ],
      "metadata": {
        "id": "T8AXHMHsqerv"
      }
    },
    {
      "cell_type": "code",
      "source": [
        "\n"
      ],
      "metadata": {
        "colab": {
          "base_uri": "https://localhost:8080/"
        },
        "id": "8Xr4juftqa_L",
        "outputId": "258e61cd-a641-4545-c969-85d59b2f88f9"
      },
      "execution_count": 3,
      "outputs": [
        {
          "output_type": "stream",
          "name": "stdout",
          "text": [
            "Enter a number: 2\n",
            "The number is even\n"
          ]
        }
      ]
    },
    {
      "cell_type": "markdown",
      "source": [
        "Q4.Write a program that asks the user to enter a temperature in Fahrenheit and converts it to Celsius."
      ],
      "metadata": {
        "id": "cMQaLqepqvHQ"
      }
    },
    {
      "cell_type": "code",
      "source": [],
      "metadata": {
        "colab": {
          "base_uri": "https://localhost:8080/"
        },
        "id": "eMEpy0eeqm_O",
        "outputId": "954b05c9-1e06-41f6-fdfb-245b20bb1cc0"
      },
      "execution_count": 5,
      "outputs": [
        {
          "output_type": "stream",
          "name": "stdout",
          "text": [
            "Enter the temperature in Fahrenheit: 3.5\n",
            "Temperature in Celsius: -15.833333333333334\n"
          ]
        }
      ]
    },
    {
      "cell_type": "markdown",
      "source": [
        "Q5.Write a program that prints the numbers from 1 to 10 using a for loop"
      ],
      "metadata": {
        "id": "AVEZaevXq5Ks"
      }
    },
    {
      "cell_type": "code",
      "source": [],
      "metadata": {
        "colab": {
          "base_uri": "https://localhost:8080/"
        },
        "id": "yDoPzwmFq-2d",
        "outputId": "620b1bfa-21a3-4e7a-a098-0534bd89f1d6"
      },
      "execution_count": 6,
      "outputs": [
        {
          "output_type": "stream",
          "name": "stdout",
          "text": [
            "1\n",
            "2\n",
            "3\n",
            "4\n",
            "5\n",
            "6\n",
            "7\n",
            "8\n",
            "9\n",
            "10\n"
          ]
        }
      ]
    },
    {
      "cell_type": "markdown",
      "source": [
        "Q6.Write a program that asks the user to enter a word and displays the length of the word."
      ],
      "metadata": {
        "id": "_5Z_12AorBp8"
      }
    },
    {
      "cell_type": "code",
      "source": [
        "\n"
      ],
      "metadata": {
        "colab": {
          "base_uri": "https://localhost:8080/"
        },
        "id": "eFRsFjsmrHc5",
        "outputId": "1a0a7650-3393-40be-aaab-093b17bfdeda"
      },
      "execution_count": 7,
      "outputs": [
        {
          "output_type": "stream",
          "name": "stdout",
          "text": [
            "Enter a word: KHULUD\n",
            "The length of the word is: 6\n"
          ]
        }
      ]
    },
    {
      "cell_type": "markdown",
      "source": [
        "Q7.Write a program that asks the user to enter three numbers and prints the largest among them."
      ],
      "metadata": {
        "id": "tF8pjB5ErM5V"
      }
    },
    {
      "cell_type": "code",
      "source": [],
      "metadata": {
        "colab": {
          "base_uri": "https://localhost:8080/"
        },
        "id": "uZ9vI8GGrMkf",
        "outputId": "b95ca3ff-fa7a-43b5-c82f-003b3df8d5b9"
      },
      "execution_count": 8,
      "outputs": [
        {
          "output_type": "stream",
          "name": "stdout",
          "text": [
            "Enter the first number: 5\n",
            "Enter the second number: 10\n",
            "Enter the third number: 20\n",
            "The largest number is: 20\n"
          ]
        }
      ]
    },
    {
      "cell_type": "markdown",
      "source": [
        "Q8.Write a program that checks if the entered word starts with a specified letter."
      ],
      "metadata": {
        "id": "jBEU2KHCrYsi"
      }
    },
    {
      "cell_type": "code",
      "source": [
        "\n"
      ],
      "metadata": {
        "colab": {
          "base_uri": "https://localhost:8080/"
        },
        "id": "uADwK-0_rhu6",
        "outputId": "274a1036-f09e-49e5-8099-b3158d781b4b"
      },
      "execution_count": 9,
      "outputs": [
        {
          "output_type": "stream",
          "name": "stdout",
          "text": [
            "Enter a word: KHULUD\n",
            "Enter the letter to check: K\n",
            "The word starts with the letter K\n"
          ]
        }
      ]
    },
    {
      "cell_type": "markdown",
      "source": [
        "Q9.Write a program to create an empty list, ask the user to enter 5 items to add to the list, and then print the final list."
      ],
      "metadata": {
        "id": "CHQTnRKDrpuU"
      }
    },
    {
      "cell_type": "code",
      "source": [],
      "metadata": {
        "colab": {
          "base_uri": "https://localhost:8080/"
        },
        "id": "vHSsj847rwrB",
        "outputId": "f1524858-e093-406d-f524-6328be51687d"
      },
      "execution_count": 10,
      "outputs": [
        {
          "output_type": "stream",
          "name": "stdout",
          "text": [
            "Enter item 1: 5\n",
            "Enter item 2: 4\n",
            "Enter item 3: 7\n",
            "Enter item 4: 9\n",
            "Enter item 5: 10\n",
            "The final list: ['5', '4', '7', '9', '10']\n"
          ]
        }
      ]
    },
    {
      "cell_type": "markdown",
      "source": [
        "Q10.Write a program that prints the numbers from 1 to 5 using a while loop."
      ],
      "metadata": {
        "id": "witsYTdHr80J"
      }
    },
    {
      "cell_type": "code",
      "source": [
        "\n"
      ],
      "metadata": {
        "colab": {
          "base_uri": "https://localhost:8080/"
        },
        "id": "TYA4K_V-r4RR",
        "outputId": "a1aa7dc0-f8da-4819-bf42-00bb7751299b"
      },
      "execution_count": 11,
      "outputs": [
        {
          "output_type": "stream",
          "name": "stdout",
          "text": [
            "1\n",
            "2\n",
            "3\n",
            "4\n",
            "5\n"
          ]
        }
      ]
    },
    {
      "cell_type": "markdown",
      "source": [
        "Q11.Write a Python program that asks the user to enter two integers and then performs the following operations on these numbers: addition, subtraction, multiplication, and integer division. Display the results of each operation."
      ],
      "metadata": {
        "id": "MeEjNLDLsC-G"
      }
    },
    {
      "cell_type": "code",
      "source": [],
      "metadata": {
        "colab": {
          "base_uri": "https://localhost:8080/"
        },
        "id": "gQrfErlesO_V",
        "outputId": "357a44b2-8c44-4917-b684-f23d74347b9f"
      },
      "execution_count": 12,
      "outputs": [
        {
          "output_type": "stream",
          "name": "stdout",
          "text": [
            "enter first integer: 2\n",
            "enter second integer: 10\n",
            "Addition  12\n",
            "Subtraction  -8\n",
            "Multiplication  20\n",
            "Division  0\n"
          ]
        }
      ]
    },
    {
      "cell_type": "markdown",
      "source": [
        "Q12.Write a Python function named average that takes three numbers as arguments and returns their average. Then, test the function by calling it twice with the sets of numbers (7, 5, 9) and (6, 6, 7), and print the results."
      ],
      "metadata": {
        "id": "K3FRJm2psdeM"
      }
    },
    {
      "cell_type": "code",
      "source": [],
      "metadata": {
        "colab": {
          "base_uri": "https://localhost:8080/"
        },
        "id": "M9CsLy5ZsiLQ",
        "outputId": "1449208f-0b49-4bc2-9a63-ce1af00ad4db"
      },
      "execution_count": 13,
      "outputs": [
        {
          "output_type": "stream",
          "name": "stdout",
          "text": [
            "7.0\n",
            "6.333333333333333\n"
          ]
        }
      ]
    },
    {
      "cell_type": "markdown",
      "source": [
        "Q13.Write a Python program that asks the user to enter any number. The program should check if the number is divisible by 5 and print a message indicating that it is divisible by 5 if the condition is true."
      ],
      "metadata": {
        "id": "sg6rIPaasvAI"
      }
    },
    {
      "cell_type": "code",
      "source": [],
      "metadata": {
        "colab": {
          "base_uri": "https://localhost:8080/"
        },
        "id": "LcQO9IbVsux2",
        "outputId": "ce9e172f-b846-4387-ac76-eb24393725b5"
      },
      "execution_count": 14,
      "outputs": [
        {
          "output_type": "stream",
          "name": "stdout",
          "text": [
            "enter any number: 10\n",
            "10 is divisible by 5\n"
          ]
        }
      ]
    },
    {
      "cell_type": "markdown",
      "source": [
        "Q14.Question: Write a Python program that asks the user to enter an integer. The program should then print all numbers from that integer down to 1 using a while loop, decrementing by 1 each time. When the loop ends, display the message \"end loop!!\"."
      ],
      "metadata": {
        "id": "LeDH341ntH8u"
      }
    },
    {
      "cell_type": "code",
      "source": [],
      "metadata": {
        "colab": {
          "base_uri": "https://localhost:8080/"
        },
        "id": "qXtU0GiutLXz",
        "outputId": "ab316a95-5c9b-4c9c-82cf-d182b58cdf46"
      },
      "execution_count": 15,
      "outputs": [
        {
          "output_type": "stream",
          "name": "stdout",
          "text": [
            "enter an integer: 3\n",
            "3\n",
            "2\n",
            "1\n",
            "end loop!!\n"
          ]
        }
      ]
    },
    {
      "cell_type": "markdown",
      "source": [
        "Q15.Write a Python program that asks the user to enter an integer. The program should use a while loop to print each number from the entered integer down to 1. For each number, it should display whether the number is even or odd. When the loop ends, print the message \"end loop!!"
      ],
      "metadata": {
        "id": "TRZ-XRSctb01"
      }
    },
    {
      "cell_type": "code",
      "source": [],
      "metadata": {
        "colab": {
          "base_uri": "https://localhost:8080/"
        },
        "id": "BZObFdG0tg4J",
        "outputId": "3ce37ebe-c45c-422e-927a-742aedb87085"
      },
      "execution_count": 16,
      "outputs": [
        {
          "output_type": "stream",
          "name": "stdout",
          "text": [
            "enter an integer: 5\n",
            "5 is odd\n",
            "4 is even\n",
            "3 is odd\n",
            "2 is even\n",
            "1 is odd\n",
            "end loop!!\n"
          ]
        }
      ]
    },
    {
      "cell_type": "markdown",
      "source": [
        "Q16.Write a Python program using a for loop to print numbers starting from 1 and incrementing by 2 on each iteration."
      ],
      "metadata": {
        "id": "Fm5C78ddt03l"
      }
    },
    {
      "cell_type": "code",
      "source": [],
      "metadata": {
        "colab": {
          "base_uri": "https://localhost:8080/"
        },
        "id": "hkQSW6W3t1m3",
        "outputId": "752dfb1e-b8c7-4751-b7eb-aff8ab89ebad"
      },
      "execution_count": 20,
      "outputs": [
        {
          "output_type": "stream",
          "name": "stdout",
          "text": [
            "1\n",
            "3\n",
            "5\n",
            "7\n",
            "9\n"
          ]
        }
      ]
    },
    {
      "cell_type": "markdown",
      "source": [
        "Q17.Write a Python program that uses a while loop to print numbers starting from 1 and increments by 2 on each iteration."
      ],
      "metadata": {
        "id": "jHtS1uK9u3wE"
      }
    },
    {
      "cell_type": "code",
      "source": [],
      "metadata": {
        "colab": {
          "base_uri": "https://localhost:8080/"
        },
        "id": "VWQNVykAu6jQ",
        "outputId": "aae670aa-cf2f-4fa6-e6e3-29b83e89de75"
      },
      "execution_count": 22,
      "outputs": [
        {
          "output_type": "stream",
          "name": "stdout",
          "text": [
            "1\n",
            "3\n",
            "5\n",
            "7\n",
            "9\n"
          ]
        }
      ]
    },
    {
      "cell_type": "markdown",
      "source": [
        "Q18.Define a class named Calculator with methods add, subtract, multiply, and divide to perform basic arithmetic operations. Create an object and use it to perform operations on different numbers."
      ],
      "metadata": {
        "id": "lcGrhQ5Gv6gN"
      }
    },
    {
      "cell_type": "code",
      "source": [
        "\n",
        "\n"
      ],
      "metadata": {
        "colab": {
          "base_uri": "https://localhost:8080/"
        },
        "id": "kn3RsSPrv958",
        "outputId": "24df76f1-c38d-41e6-e0ce-017c244706af"
      },
      "execution_count": 29,
      "outputs": [
        {
          "output_type": "stream",
          "name": "stdout",
          "text": [
            "Addition: 8\n",
            "Subtraction: 2\n",
            "Multiplication: 15\n",
            "Division: 1.6666666666666667\n"
          ]
        }
      ]
    },
    {
      "cell_type": "markdown",
      "source": [
        "Q19. Write a class named Person with attributes name and age, and a method introduce that prints a sentence with the person's name and age. Create an object of the class and call the method to display the data."
      ],
      "metadata": {
        "id": "CaDaTyinwgRw"
      }
    },
    {
      "cell_type": "code",
      "source": [],
      "metadata": {
        "colab": {
          "base_uri": "https://localhost:8080/"
        },
        "id": "W5N1urxBwmOE",
        "outputId": "58dc962e-8f35-42bf-c2fb-118e0ff2c505"
      },
      "execution_count": 28,
      "outputs": [
        {
          "output_type": "stream",
          "name": "stdout",
          "text": [
            "Hello, my name is KHULUD and I am 26 years old.\n"
          ]
        }
      ]
    },
    {
      "cell_type": "markdown",
      "source": [
        "Q20.Define a class Movie with attributes title, director, and rating. Add a method to check if the rating is suitable for children (if it is less than 7). Then, create an object of a movie and test the rating."
      ],
      "metadata": {
        "id": "siAaw_KAxT1B"
      }
    },
    {
      "cell_type": "code",
      "source": [
        "\n"
      ],
      "metadata": {
        "colab": {
          "base_uri": "https://localhost:8080/"
        },
        "id": "Yc8UUwDRxWvA",
        "outputId": "bf7876fc-8843-4406-883d-e82f9473ded5"
      },
      "execution_count": 30,
      "outputs": [
        {
          "output_type": "stream",
          "name": "stdout",
          "text": [
            "Suitable for children: False\n"
          ]
        }
      ]
    },
    {
      "cell_type": "markdown",
      "source": [
        "Q21. Write a class named BankAccount with attributes account_number and balance, and methods to deposit and withdraw money. Create an object of this class, test the deposit and withdraw methods, and print the final balance."
      ],
      "metadata": {
        "id": "55FApN15x-Dj"
      }
    },
    {
      "cell_type": "code",
      "source": [
        "\n"
      ],
      "metadata": {
        "colab": {
          "base_uri": "https://localhost:8080/"
        },
        "id": "uNVw_EnZyD8G",
        "outputId": "100288eb-f7a3-4e45-d3c7-cc2c42676cf0"
      },
      "execution_count": 31,
      "outputs": [
        {
          "output_type": "stream",
          "name": "stdout",
          "text": [
            "Deposited: 100\n",
            "Withdrawn: 50\n",
            "Final Balance: 50\n"
          ]
        }
      ]
    },
    {
      "cell_type": "markdown",
      "source": [
        "Q22.Create a class called Animal with an attribute species and a method make_sound that prints \"Some generic animal sound\". Then, create a subclass called Cat that inherits from Animal and overrides the make_sound method to print \"Meow\". Create an object of Cat and call the make_sound method to test it."
      ],
      "metadata": {
        "id": "UbAciWrUy5wn"
      }
    },
    {
      "cell_type": "code",
      "source": [],
      "metadata": {
        "colab": {
          "base_uri": "https://localhost:8080/"
        },
        "id": "7tK0kB5Wy8hF",
        "outputId": "5de57977-7bea-452c-dc2b-8332dfc1d269"
      },
      "execution_count": 32,
      "outputs": [
        {
          "output_type": "stream",
          "name": "stdout",
          "text": [
            "Meow\n"
          ]
        }
      ]
    },
    {
      "cell_type": "markdown",
      "source": [
        "Q23.Create a base class called Vehicle with an attribute num_wheels and a method drive that prints \"The vehicle is driving.\" Then, create a subclass called Car that inherits from Vehicle and overrides the drive method to print \"The car is driving.\" Create an object of Car, set the number of wheels to 4, and call the drive method to test it."
      ],
      "metadata": {
        "id": "vaOCdl8nzUBb"
      }
    },
    {
      "cell_type": "code",
      "source": [],
      "metadata": {
        "colab": {
          "base_uri": "https://localhost:8080/"
        },
        "id": "IY5NZEBmzXbf",
        "outputId": "23b6409c-06af-43c2-d999-58381d377067"
      },
      "execution_count": 34,
      "outputs": [
        {
          "output_type": "stream",
          "name": "stdout",
          "text": [
            "Number of wheels: 4\n",
            "The car is driving.\n"
          ]
        }
      ]
    }
  ]
}